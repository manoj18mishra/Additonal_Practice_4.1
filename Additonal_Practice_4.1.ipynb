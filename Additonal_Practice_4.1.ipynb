{
 "cells": [
  {
   "cell_type": "markdown",
   "metadata": {},
   "source": [
    "### 1) Write a Python program which accepts a list named : randomList = ['a', 0,2]. Use exception handling using try-catch which gives the output as:\n",
    "    Output\n",
    "     1) If the List element is a alphabet or string, the output will be\n",
    "     The entry is a\n",
    "     Oops! <class 'ValueError'> occured.\n",
    "     Next entry.\n",
    "     2) If the List element is “0”,the output will be\n",
    "     The entry is 0\n",
    "     Oops! <class 'ZeroDivisionError'> occured.\n",
    "     Next entry.\n",
    "     3) If the List element is and integer except 0,then output will be\n",
    "     The entry is 2\n",
    "     The reciprocal of 2 is 0.5 // reciprocal of an integer"
   ]
  },
  {
   "cell_type": "code",
   "execution_count": 5,
   "metadata": {},
   "outputs": [
    {
     "name": "stdout",
     "output_type": "stream",
     "text": [
      "The entry is a\n",
      "Oops! <class 'TypeError'> occured.\n",
      "Next entry.\n",
      "The entry is 0\n",
      "Oops! <class 'ZeroDivisionError'> occured.\n",
      "Next entry.\n",
      "The entry is 2\n",
      "The reciprocal of 2 is 0.5\n",
      "Next entry.\n"
     ]
    }
   ],
   "source": [
    "def List_reciprocal(list1):\n",
    "    for l in list1:\n",
    "        print(\"The entry is {}\".format(l))\n",
    "        try:\n",
    "            r = 1/l\n",
    "        except Exception as ex:\n",
    "            print(\"Oops! {} occured.\".format(ex.__class__))\n",
    "        else:\n",
    "            print(\"The reciprocal of {} is {}\".format(l,r))\n",
    "        finally:\n",
    "            print(\"Next entry.\")\n",
    "\n",
    "randomList=['a',0,2]\n",
    "List_reciprocal(randomList)"
   ]
  },
  {
   "cell_type": "markdown",
   "metadata": {},
   "source": [
    "### 2) Array out of Bound Exception\n",
    " Write a Python program to give exception “Array Out of Bound” if the\n",
    "user wants to access the elements beyond the list size (use try and exce\n",
    "pt)"
   ]
  },
  {
   "cell_type": "code",
   "execution_count": 13,
   "metadata": {},
   "outputs": [
    {
     "name": "stdout",
     "output_type": "stream",
     "text": [
      "Array Out of Bound\n"
     ]
    }
   ],
   "source": [
    "def AOB(list1,index):\n",
    "    try:\n",
    "        print(\"The value is {}\".format(list1[index]))\n",
    "    except IndexError:\n",
    "        print(\"Array Out of Bound\")\n",
    "\n",
    "l1=[0,2,4]\n",
    "AOB(l1,3)"
   ]
  },
  {
   "cell_type": "code",
   "execution_count": null,
   "metadata": {},
   "outputs": [],
   "source": [
    "palindrome(\"Madam\")\n",
    "palindrome(\"Testing\")\n",
    "palindrome(\"trainairt\")"
   ]
  },
  {
   "cell_type": "markdown",
   "metadata": {},
   "source": [
    "### 3) Write a python module script that contains fib2() method to calculate the fibonacci series till 1000 and save it as fibo.py.\n",
    "    Note : The module created as fibo.py has to be placed in lib\n",
    "    folder\n",
    "    For linux/ubuntu path = /home/anaconda/lib/python3\n",
    "    For Windows path = C:\\Users\\Ajit\\Anaconda3\\Lib"
   ]
  },
  {
   "cell_type": "code",
   "execution_count": 2,
   "metadata": {},
   "outputs": [
    {
     "data": {
      "text/plain": [
       "[1, 1, 2, 3, 5, 8, 13, 21, 34, 55, 89, 144, 233, 377, 610, 987]"
      ]
     },
     "execution_count": 2,
     "metadata": {},
     "output_type": "execute_result"
    }
   ],
   "source": [
    "import fibo\n",
    "fibo.fib2(1000)"
   ]
  },
  {
   "cell_type": "markdown",
   "metadata": {},
   "source": [
    "### 4) Write a python module script that contains ispalindrome() method tocalculate the input string as palindrome string or not and save it as palindrome.py"
   ]
  },
  {
   "cell_type": "code",
   "execution_count": 5,
   "metadata": {},
   "outputs": [
    {
     "name": "stdout",
     "output_type": "stream",
     "text": [
      "Madam is a palindrome\n",
      "Testing is not a palindrome\n",
      "Anna is a palindrome\n",
      "Anil is not a palindrome\n",
      "Noon is a palindrome\n",
      "AfterNoon is not a palindrome\n",
      "Racecar is a palindrome\n"
     ]
    }
   ],
   "source": [
    "import palindrome as p\n",
    "p.palindrome(\"Madam\")\n",
    "p.palindrome(\"Testing\")\n",
    "p.palindrome(\"Anna\")\n",
    "p.palindrome(\"Anil\")\n",
    "p.palindrome(\"Noon\")\n",
    "p.palindrome(\"AfterNoon\")\n",
    "p.palindrome(\"Racecar\")"
   ]
  },
  {
   "cell_type": "code",
   "execution_count": null,
   "metadata": {},
   "outputs": [],
   "source": []
  }
 ],
 "metadata": {
  "kernelspec": {
   "display_name": "Python 3",
   "language": "python",
   "name": "python3"
  },
  "language_info": {
   "codemirror_mode": {
    "name": "ipython",
    "version": 3
   },
   "file_extension": ".py",
   "mimetype": "text/x-python",
   "name": "python",
   "nbconvert_exporter": "python",
   "pygments_lexer": "ipython3",
   "version": "3.6.5"
  }
 },
 "nbformat": 4,
 "nbformat_minor": 2
}
